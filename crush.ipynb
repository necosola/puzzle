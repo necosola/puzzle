{
 "cells": [
  {
   "cell_type": "code",
   "execution_count": 1,
   "metadata": {},
   "outputs": [],
   "source": [
    "import numpy as np"
   ]
  },
  {
   "cell_type": "code",
   "execution_count": 56,
   "metadata": {},
   "outputs": [
    {
     "name": "stdout",
     "output_type": "stream",
     "text": [
      "[[1. 1. 4. 4.]\n",
      " [4. 2. 4. 2.]\n",
      " [1. 2. 4. 2.]\n",
      " [4. 2. 2. 4.]]\n",
      "verti_bingo 1 2\n",
      "verti_bingo 2 1\n"
     ]
    }
   ],
   "source": [
    "### build player ###\n",
    "player = [1,2,3,4];\n",
    "#print(np.zeros((8,8)))\n",
    "\n",
    "### build square matrix ###\n",
    "matrix_size = 4;\n",
    "game_matrix = (np.zeros((matrix_size,matrix_size)))\n",
    "\n",
    "### define_match_size\n",
    "\n",
    "match_size = 3;\n",
    "\n",
    "for i in range(matrix_size):\n",
    "    for j in range(matrix_size):\n",
    "        game_matrix[i,j] = player[np.random.randint(len(player))]\n",
    "\n",
    "print(game_matrix)\n",
    "\n",
    "\n",
    "for i in range(matrix_size):\n",
    "    for j in range(matrix_size):\n",
    "        if (i == 0 and j == 0 ) or (i == 0 and j == matrix_size-1 ) or (i == matrix_size-1 and j == 0 ) or (i == matrix_size-1 and j == matrix_size-1 ):\n",
    "            #print(\"corner\",i,j)\n",
    "            pass\n",
    "        elif (i == 0) or (i == matrix_size-1):\n",
    "            #print(\"check horizontal\",i,j)\n",
    "            if (game_matrix[i,j] == game_matrix[i,j-1]) and (game_matrix[i,j] == game_matrix[i,j+1]):\n",
    "                print(\"hori_bingo\",i,j)\n",
    "        elif (j == 0) or (j == matrix_size-1):\n",
    "            #print(\"check vertical\",i,j)\n",
    "            if (game_matrix[i,j] == game_matrix[i-1,j]) and (game_matrix[i,j] == game_matrix[i+1,j]):\n",
    "                print(\"verti_bingo\",i,j)\n",
    "        else:\n",
    "            #print(\"check horizontal\",\"check vertical\",i,j)\n",
    "            if (game_matrix[i,j] == game_matrix[i-1,j]) and (game_matrix[i,j] == game_matrix[i+1,j]):\n",
    "                print(\"verti_bingo\",i,j)\n",
    "            elif (game_matrix[i,j] == game_matrix[i,j-1]) and (game_matrix[i,j] == game_matrix[i,j+1]):\n",
    "                print(\"hori_bingo\",i,j)\n",
    "\n",
    "\n",
    "\n",
    "\n"
   ]
  },
  {
   "cell_type": "code",
   "execution_count": null,
   "metadata": {},
   "outputs": [],
   "source": []
  }
 ],
 "metadata": {
  "kernelspec": {
   "display_name": "Python 3",
   "language": "python",
   "name": "python3"
  },
  "language_info": {
   "codemirror_mode": {
    "name": "ipython",
    "version": 3
   },
   "file_extension": ".py",
   "mimetype": "text/x-python",
   "name": "python",
   "nbconvert_exporter": "python",
   "pygments_lexer": "ipython3",
   "version": "3.9.6"
  }
 },
 "nbformat": 4,
 "nbformat_minor": 2
}

{
 "cells": [
  {
   "cell_type": "code",
   "execution_count": 2,
   "metadata": {},
   "outputs": [],
   "source": [
    "import numpy as np"
   ]
  },
  {
   "cell_type": "code",
   "execution_count": 4,
   "metadata": {},
   "outputs": [
    {
     "name": "stdout",
     "output_type": "stream",
     "text": [
      "the 1 rounds\n",
      "I'm goint to switch: h i 7 8\n",
      "Done switch: ['a', 'b', 'c', 'd', 'e', 'f', 'g', 'i', 'h']\n",
      "the 2 rounds\n",
      "I'm goint to switch: f g 5 6\n",
      "Done switch: ['a', 'b', 'c', 'd', 'e', 'g', 'f', 'i', 'h']\n",
      "the 3 rounds\n",
      "I'm goint to switch: i h 7 8\n",
      "Done switch: ['a', 'b', 'c', 'd', 'e', 'g', 'f', 'h', 'i']\n",
      "the 4 rounds\n",
      "I'm goint to switch: h i 7 8\n",
      "Done switch: ['a', 'b', 'c', 'd', 'e', 'g', 'f', 'i', 'h']\n",
      "the 5 rounds\n",
      "I'm goint to switch: g f 5 6\n",
      "Done switch: ['a', 'b', 'c', 'd', 'e', 'f', 'g', 'i', 'h']\n",
      "the 6 rounds\n",
      "I'm goint to switch: i h 7 8\n",
      "Done switch: ['a', 'b', 'c', 'd', 'e', 'f', 'g', 'h', 'i']\n",
      "the 7 rounds\n",
      "I'm goint to switch: d e 3 4\n",
      "Done switch: ['a', 'b', 'c', 'e', 'd', 'f', 'g', 'h', 'i']\n",
      "the 8 rounds\n",
      "I'm goint to switch: c e 2 3\n",
      "Done switch: ['a', 'b', 'e', 'c', 'd', 'f', 'g', 'h', 'i']\n",
      "the 9 rounds\n",
      "I'm goint to switch: d f 4 5\n",
      "Done switch: ['a', 'b', 'e', 'c', 'f', 'd', 'g', 'h', 'i']\n",
      "the 10 rounds\n",
      "I'm goint to switch: g h 6 7\n",
      "Done switch: ['a', 'b', 'e', 'c', 'f', 'd', 'h', 'g', 'i']\n",
      "the 11 rounds\n",
      "I'm goint to switch: c f 3 4\n",
      "Done switch: ['a', 'b', 'e', 'f', 'c', 'd', 'h', 'g', 'i']\n",
      "the 12 rounds\n",
      "I'm goint to switch: h g 6 7\n",
      "Done switch: ['a', 'b', 'e', 'f', 'c', 'd', 'g', 'h', 'i']\n",
      "the 13 rounds\n",
      "I'm goint to switch: h i 7 8\n",
      "Done switch: ['a', 'b', 'e', 'f', 'c', 'd', 'g', 'i', 'h']\n",
      "the 14 rounds\n",
      "I'm goint to switch: b e 1 2\n",
      "Done switch: ['a', 'e', 'b', 'f', 'c', 'd', 'g', 'i', 'h']\n",
      "the 15 rounds\n",
      "I'm goint to switch: i h 7 8\n",
      "Done switch: ['a', 'e', 'b', 'f', 'c', 'd', 'g', 'h', 'i']\n"
     ]
    }
   ],
   "source": [
    "start = [\"a\",\"b\",\"c\",\"d\",\"e\",\"f\",\"g\",\"h\",\"i\"];\n",
    "#start = [\"a\",\"b\",\"c\",\"d\",\"e\"];\n",
    "len_start_n1 = (len(start))-1;\n",
    "\n",
    "num_of_bridges = np.random.randint(len_start_n1+10);\n",
    "\n",
    "### make num_of_bridges more than element ###\n",
    "while num_of_bridges < len_start_n1:\n",
    "    #print(\"in_while\",num_of_bridges )\n",
    "    num_of_bridges = np.random.randint(10);\n",
    "#print(\"Final_result\",num_of_bridges)\n",
    "\n",
    "### random pick one group and switch ###\n",
    "for i in range(num_of_bridges):\n",
    "    print(\"the\", i+1, \"rounds\")\n",
    "    ind_left = np.random.randint(len_start_n1);\n",
    "    ind_right = ind_left+1;\n",
    "    print(\"I'm goint to switch:\",start[ind_left],start[ind_right],ind_left,ind_right)\n",
    "\n",
    "    temp = start[ind_left];\n",
    "    start[ind_left] = start[ind_right];\n",
    "    start[ind_right] = temp\n",
    "\n",
    "    print(\"Done switch:\",start)"
   ]
  },
  {
   "cell_type": "code",
   "execution_count": null,
   "metadata": {},
   "outputs": [],
   "source": []
  },
  {
   "cell_type": "code",
   "execution_count": null,
   "metadata": {},
   "outputs": [],
   "source": []
  }
 ],
 "metadata": {
  "kernelspec": {
   "display_name": "Python 3",
   "language": "python",
   "name": "python3"
  },
  "language_info": {
   "codemirror_mode": {
    "name": "ipython",
    "version": 3
   },
   "file_extension": ".py",
   "mimetype": "text/x-python",
   "name": "python",
   "nbconvert_exporter": "python",
   "pygments_lexer": "ipython3",
   "version": "3.9.6"
  }
 },
 "nbformat": 4,
 "nbformat_minor": 2
}
